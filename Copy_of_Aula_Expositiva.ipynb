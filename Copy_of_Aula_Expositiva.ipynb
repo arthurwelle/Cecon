{
  "nbformat": 4,
  "nbformat_minor": 0,
  "metadata": {
    "colab": {
      "name": "Copy of Aula_Expositiva.ipynb",
      "version": "0.3.2",
      "provenance": [],
      "collapsed_sections": [],
      "toc_visible": true,
      "include_colab_link": true
    },
    "kernelspec": {
      "name": "python3",
      "display_name": "Python 3"
    }
  },
  "cells": [
    {
      "cell_type": "markdown",
      "metadata": {
        "id": "view-in-github",
        "colab_type": "text"
      },
      "source": [
        "<a href=\"https://colab.research.google.com/github/arthurwelle/Cecon/blob/master/Copy_of_Aula_Expositiva.ipynb\" target=\"_parent\"><img src=\"https://colab.research.google.com/assets/colab-badge.svg\" alt=\"Open In Colab\"/></a>"
      ]
    },
    {
      "metadata": {
        "id": "uv3Gxx49PvW4",
        "colab_type": "text"
      },
      "cell_type": "markdown",
      "source": [
        "# POF: conceitos utilizados, estrutura, limites e potencialidades\n",
        "\n",
        "**24/04/2019**\n"
      ]
    },
    {
      "metadata": {
        "id": "OcmkvCVvP2fz",
        "colab_type": "text"
      },
      "cell_type": "markdown",
      "source": [
        "## Introdução à POF\n",
        "\n",
        "<u>Referência:</u> Para entender a POF (Gaiger)\n",
        "\n",
        "Nota-se uma convergência ao estudo de tributação utilizando a POF. Informações de consumo e padrões de consumo são bastante ricas. Isso pode ser visto que 12/16 arquivos da POF relacianadas ao consumo\n",
        "\n",
        "Gaiger pontua a necessidade de unir serviços adminitrativos com a POF. Deficiências da POF:\n",
        "\n",
        "- Ausência de orçamentos financeiros das famílias\n",
        "  - Famílias reportam déficit orçamentário\n",
        "  - Destaque para mudança no acesso ao crédito\n",
        "- Desemprego e atividade secundária (ver PNAD) nem horas de trabalho\n",
        "- Crítica de inputação dos dados e quantidade\n",
        "- Descontinuidades\n",
        "- **Principal objetivo:** Índice de preços\n",
        "- Sem rendimentos de aposentadorias discriminados\n",
        "- Pouco estudos sobre fontes de rendimentos (não-trabalho e não-aposentadoria)"
      ]
    },
    {
      "metadata": {
        "id": "JdMQbzd-c-jO",
        "colab_type": "text"
      },
      "cell_type": "markdown",
      "source": [
        "## Características\n",
        "\n",
        "Pesquisa de duração de um ano que são realizadas em uma semana em determinada família para coletar informações relacionadas a consumo. Distinção entre famílias e unidade de consumo que, em termos práticos, não é bastante significativa uma vez que são raros os casos de famílias com duas unidades de consumo. Além disso, são selecionados quem responderá o questionário sobre gastos individuais (maiores de 10 anos) e do domicílio. A unidade de entrada é a aquisição não necessariamente consumidos (distinção entre consumo e gasto). Vale destacar que o cálculo de linha de pobreza estão relacionadas com o tipo de consumo mas existem estimativas multidimensionais."
      ]
    },
    {
      "metadata": {
        "id": "lLxQMwfLgf8m",
        "colab_type": "text"
      },
      "cell_type": "markdown",
      "source": [
        "## Baixando dados"
      ]
    },
    {
      "metadata": {
        "id": "YTTFJuuLgiLx",
        "colab_type": "code",
        "colab": {}
      },
      "cell_type": "code",
      "source": [
        "!rm *.txt # Apaga arquvios antigos\n",
        "!rm -rf sample_data # Apaga pasta \n",
        "!wget ftp://ftp.ibge.gov.br/Orcamentos_Familiares/Pesquisa_de_Orcamentos_Familiares_2008_2009/Microdados/Dados.zip #Baixa\n",
        "!unzip -u Dados.zip # Deszipa\n",
        "!rm Dados.zip # Deleta arquivo .zip\n",
        "!apt-get install p7zip # Instala programa para descompactar .7z\n",
        "!p7zip -d  Dados/*.7z # Descompacta .7z\n",
        "!rm -rf Dados"
      ],
      "execution_count": 0,
      "outputs": []
    },
    {
      "metadata": {
        "id": "-8GFr5RHyyPd",
        "colab_type": "code",
        "colab": {}
      },
      "cell_type": "code",
      "source": [
        "!wget ftp://ftp.ibge.gov.br/Orcamentos_Familiares/Pesquisa_de_Orcamentos_Familiares_2008_2009/Microdados/tradutores.zip #Baixa\n",
        "!mkdir tradutores\n",
        "!unzip -u tradutores.zip  -o tradutores # Deszipa \n",
        "!rm tradutores.zip # Deleta arquivo .zip"
      ],
      "execution_count": 0,
      "outputs": []
    },
    {
      "metadata": {
        "id": "XKNGY4KUtm0d",
        "colab_type": "text"
      },
      "cell_type": "markdown",
      "source": [
        "# Utilizando pacote R"
      ]
    },
    {
      "metadata": {
        "id": "_EGIWjvftoZw",
        "colab_type": "code",
        "colab": {}
      },
      "cell_type": "code",
      "source": [
        "%load_ext rpy2.ipython\n",
        "import warnings\n",
        "warnings.filterwarnings('ignore')"
      ],
      "execution_count": 0,
      "outputs": []
    },
    {
      "metadata": {
        "id": "-PvMa0o-t2kk",
        "colab_type": "code",
        "colab": {}
      },
      "cell_type": "code",
      "source": [
        "%%R\n",
        "install.packages( \"devtools\" , repos = \"http://cran.rstudio.com/\" )\n",
        "library(devtools)\n",
        "install_github( \"ajdamico/lodown\" , dependencies = TRUE )\n",
        "install.packages( \"convey\" , repos = \"http://cran.rstudio.com/\" )\n",
        "install.packages( \"srvyr\" , repos = \"http://cran.rstudio.com/\" )\n",
        "library(lodown)\n",
        "library(convey)\n",
        "library(srvyr)"
      ],
      "execution_count": 0,
      "outputs": []
    },
    {
      "metadata": {
        "id": "7TBymzjAuS0A",
        "colab_type": "code",
        "colab": {}
      },
      "cell_type": "code",
      "source": [
        "%%R\n",
        "pof_cat <-\n",
        "    get_catalog( \"pof\" ,\n",
        "        output_dir = file.path( path.expand( \"~/content\" ) , \"POF\" ) )\n",
        "\n",
        "# 2008-2009 only\n",
        "pof_cat <- subset( pof_cat , period == \"2008_2009\" )\n",
        "# download the microdata to your local computer\n",
        "pof_cat <- lodown( \"pof\" , pof_cat )"
      ],
      "execution_count": 0,
      "outputs": []
    },
    {
      "metadata": {
        "id": "GQYGS2vgw3D2",
        "colab_type": "code",
        "colab": {}
      },
      "cell_type": "code",
      "source": [
        "%R -o pof_cat"
      ],
      "execution_count": 0,
      "outputs": []
    },
    {
      "metadata": {
        "id": "W7WVGQ5dxrfo",
        "colab_type": "code",
        "colab": {}
      },
      "cell_type": "code",
      "source": [
        "pof_cat['full_urls']"
      ],
      "execution_count": 0,
      "outputs": []
    }
  ]
}